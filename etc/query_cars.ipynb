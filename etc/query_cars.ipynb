{
 "cells": [
  {
   "cell_type": "code",
   "execution_count": 6,
   "metadata": {},
   "outputs": [
    {
     "name": "stdout",
     "output_type": "stream",
     "text": [
      "Defaulting to user installation because normal site-packages is not writeable\n",
      "Requirement already satisfied: pandas in /home/rohan/.local/lib/python3.8/site-packages (1.4.1)\n",
      "Requirement already satisfied: trino in /home/rohan/.local/lib/python3.8/site-packages (0.310.0)\n",
      "Requirement already satisfied: numpy>=1.18.5 in /home/rohan/.local/lib/python3.8/site-packages (from pandas) (1.22.3)\n",
      "Requirement already satisfied: pytz>=2020.1 in /home/rohan/.local/lib/python3.8/site-packages (from pandas) (2021.3)\n",
      "Requirement already satisfied: python-dateutil>=2.8.1 in /home/rohan/.local/lib/python3.8/site-packages (from pandas) (2.8.2)\n",
      "Requirement already satisfied: requests in /usr/lib/python3/dist-packages (from trino) (2.22.0)\n",
      "Requirement already satisfied: six>=1.5 in /usr/lib/python3/dist-packages (from python-dateutil>=2.8.1->pandas) (1.14.0)\n",
      "Note: you may need to restart the kernel to use updated packages.\n"
     ]
    }
   ],
   "source": [
    "%pip install pandas trino"
   ]
  },
  {
   "cell_type": "code",
   "execution_count": 7,
   "metadata": {},
   "outputs": [],
   "source": [
    "import pandas as pd\n",
    "import trino\n",
    "import warnings\n",
    "\n",
    "warnings.simplefilter(action='ignore', category=UserWarning)"
   ]
  },
  {
   "cell_type": "markdown",
   "metadata": {},
   "source": [
    "#### Connection\n",
    "\n",
    "The connection seems to be a DBAPI2 object and behaves like other DB connection\n",
    "objects (e.g. psycopg). We can use it directly from pandas."
   ]
  },
  {
   "cell_type": "code",
   "execution_count": 8,
   "metadata": {},
   "outputs": [],
   "source": [
    "conn = trino.dbapi.connect(\n",
    "    host='localhost',\n",
    "    port=8080,\n",
    "    user='trino'\n",
    ")"
   ]
  },
  {
   "cell_type": "markdown",
   "metadata": {},
   "source": [
    "#### Query arbitrary data sources\n",
    "\n",
    "We can directly hit multiple backend data sources with a single query. In this\n",
    "example, we query a bunch of formats across multiple services.\n",
    "\n",
    "* MinIO S3 object storage\n",
    "  * Gzipped JSON\n",
    "  * ORC\n",
    "  * Parquet\n",
    "* PostgreSQL server\n",
    "  * Standard table"
   ]
  },
  {
   "cell_type": "code",
   "execution_count": 5,
   "metadata": {},
   "outputs": [
    {
     "ename": "TrinoExternalError",
     "evalue": "TrinoExternalError(type=EXTERNAL, name=HIVE_METASTORE_ERROR, message=\"Failed connecting to Hive metastore: [hive-metastore.hive-system:9083]\", query_id=20220319_190212_00000_5mywz)",
     "output_type": "error",
     "traceback": [
      "\u001b[0;31m---------------------------------------------------------------------------\u001b[0m",
      "\u001b[0;31mTrinoExternalError\u001b[0m                        Traceback (most recent call last)",
      "\u001b[1;32m/home/rohan/Documents/StatsGIT/aaw-trino/etc/query_cars.ipynb Cell 6'\u001b[0m in \u001b[0;36m<cell line: 2>\u001b[0;34m()\u001b[0m\n\u001b[1;32m      <a href='vscode-notebook-cell:/home/rohan/Documents/StatsGIT/aaw-trino/etc/query_cars.ipynb#ch0000005?line=0'>1</a>\u001b[0m \u001b[39m# Query multiple data sources directly.\u001b[39;00m\n\u001b[0;32m----> <a href='vscode-notebook-cell:/home/rohan/Documents/StatsGIT/aaw-trino/etc/query_cars.ipynb#ch0000005?line=1'>2</a>\u001b[0m df \u001b[39m=\u001b[39m pd\u001b[39m.\u001b[39;49mread_sql(\u001b[39m'''\u001b[39;49m\n\u001b[1;32m      <a href='vscode-notebook-cell:/home/rohan/Documents/StatsGIT/aaw-trino/etc/query_cars.ipynb#ch0000005?line=2'>3</a>\u001b[0m \u001b[39m  select p.name, p.age, o.color, c.make, c.model, v.value as est_purchase_price\u001b[39;49m\n\u001b[1;32m      <a href='vscode-notebook-cell:/home/rohan/Documents/StatsGIT/aaw-trino/etc/query_cars.ipynb#ch0000005?line=3'>4</a>\u001b[0m \u001b[39m  from minio.people.people p -- Gzipped JSON\u001b[39;49m\n\u001b[1;32m      <a href='vscode-notebook-cell:/home/rohan/Documents/StatsGIT/aaw-trino/etc/query_cars.ipynb#ch0000005?line=4'>5</a>\u001b[0m \u001b[39m  inner join minio.autos.owners o on p.name = o.person_name -- ORC\u001b[39;49m\n\u001b[1;32m      <a href='vscode-notebook-cell:/home/rohan/Documents/StatsGIT/aaw-trino/etc/query_cars.ipynb#ch0000005?line=5'>6</a>\u001b[0m \u001b[39m  inner join minio.autos.cars c on o.car_id = c.id -- Parquet\u001b[39;49m\n\u001b[1;32m      <a href='vscode-notebook-cell:/home/rohan/Documents/StatsGIT/aaw-trino/etc/query_cars.ipynb#ch0000005?line=6'>7</a>\u001b[0m \u001b[39m  left join postgresql.autos.car_values v -- PostgreSQL server\u001b[39;49m\n\u001b[1;32m      <a href='vscode-notebook-cell:/home/rohan/Documents/StatsGIT/aaw-trino/etc/query_cars.ipynb#ch0000005?line=7'>8</a>\u001b[0m \u001b[39m    on c.make = v.make and c.model = v.model and c.year = v.year\u001b[39;49m\n\u001b[1;32m      <a href='vscode-notebook-cell:/home/rohan/Documents/StatsGIT/aaw-trino/etc/query_cars.ipynb#ch0000005?line=8'>9</a>\u001b[0m \u001b[39m'''\u001b[39;49m, conn)\n\u001b[1;32m     <a href='vscode-notebook-cell:/home/rohan/Documents/StatsGIT/aaw-trino/etc/query_cars.ipynb#ch0000005?line=9'>10</a>\u001b[0m df\n",
      "File \u001b[0;32m~/.local/lib/python3.8/site-packages/pandas/io/sql.py:566\u001b[0m, in \u001b[0;36mread_sql\u001b[0;34m(sql, con, index_col, coerce_float, params, parse_dates, columns, chunksize)\u001b[0m\n\u001b[1;32m    <a href='file:///home/rohan/.local/lib/python3.8/site-packages/pandas/io/sql.py?line=562'>563</a>\u001b[0m pandas_sql \u001b[39m=\u001b[39m pandasSQL_builder(con)\n\u001b[1;32m    <a href='file:///home/rohan/.local/lib/python3.8/site-packages/pandas/io/sql.py?line=564'>565</a>\u001b[0m \u001b[39mif\u001b[39;00m \u001b[39misinstance\u001b[39m(pandas_sql, SQLiteDatabase):\n\u001b[0;32m--> <a href='file:///home/rohan/.local/lib/python3.8/site-packages/pandas/io/sql.py?line=565'>566</a>\u001b[0m     \u001b[39mreturn\u001b[39;00m pandas_sql\u001b[39m.\u001b[39;49mread_query(\n\u001b[1;32m    <a href='file:///home/rohan/.local/lib/python3.8/site-packages/pandas/io/sql.py?line=566'>567</a>\u001b[0m         sql,\n\u001b[1;32m    <a href='file:///home/rohan/.local/lib/python3.8/site-packages/pandas/io/sql.py?line=567'>568</a>\u001b[0m         index_col\u001b[39m=\u001b[39;49mindex_col,\n\u001b[1;32m    <a href='file:///home/rohan/.local/lib/python3.8/site-packages/pandas/io/sql.py?line=568'>569</a>\u001b[0m         params\u001b[39m=\u001b[39;49mparams,\n\u001b[1;32m    <a href='file:///home/rohan/.local/lib/python3.8/site-packages/pandas/io/sql.py?line=569'>570</a>\u001b[0m         coerce_float\u001b[39m=\u001b[39;49mcoerce_float,\n\u001b[1;32m    <a href='file:///home/rohan/.local/lib/python3.8/site-packages/pandas/io/sql.py?line=570'>571</a>\u001b[0m         parse_dates\u001b[39m=\u001b[39;49mparse_dates,\n\u001b[1;32m    <a href='file:///home/rohan/.local/lib/python3.8/site-packages/pandas/io/sql.py?line=571'>572</a>\u001b[0m         chunksize\u001b[39m=\u001b[39;49mchunksize,\n\u001b[1;32m    <a href='file:///home/rohan/.local/lib/python3.8/site-packages/pandas/io/sql.py?line=572'>573</a>\u001b[0m     )\n\u001b[1;32m    <a href='file:///home/rohan/.local/lib/python3.8/site-packages/pandas/io/sql.py?line=574'>575</a>\u001b[0m \u001b[39mtry\u001b[39;00m:\n\u001b[1;32m    <a href='file:///home/rohan/.local/lib/python3.8/site-packages/pandas/io/sql.py?line=575'>576</a>\u001b[0m     _is_table_name \u001b[39m=\u001b[39m pandas_sql\u001b[39m.\u001b[39mhas_table(sql)\n",
      "File \u001b[0;32m~/.local/lib/python3.8/site-packages/pandas/io/sql.py:2081\u001b[0m, in \u001b[0;36mSQLiteDatabase.read_query\u001b[0;34m(self, sql, index_col, coerce_float, params, parse_dates, chunksize, dtype)\u001b[0m\n\u001b[1;32m   <a href='file:///home/rohan/.local/lib/python3.8/site-packages/pandas/io/sql.py?line=2078'>2079</a>\u001b[0m args \u001b[39m=\u001b[39m _convert_params(sql, params)\n\u001b[1;32m   <a href='file:///home/rohan/.local/lib/python3.8/site-packages/pandas/io/sql.py?line=2079'>2080</a>\u001b[0m cursor \u001b[39m=\u001b[39m \u001b[39mself\u001b[39m\u001b[39m.\u001b[39mexecute(\u001b[39m*\u001b[39margs)\n\u001b[0;32m-> <a href='file:///home/rohan/.local/lib/python3.8/site-packages/pandas/io/sql.py?line=2080'>2081</a>\u001b[0m columns \u001b[39m=\u001b[39m [col_desc[\u001b[39m0\u001b[39m] \u001b[39mfor\u001b[39;00m col_desc \u001b[39min\u001b[39;00m cursor\u001b[39m.\u001b[39;49mdescription]\n\u001b[1;32m   <a href='file:///home/rohan/.local/lib/python3.8/site-packages/pandas/io/sql.py?line=2082'>2083</a>\u001b[0m \u001b[39mif\u001b[39;00m chunksize \u001b[39mis\u001b[39;00m \u001b[39mnot\u001b[39;00m \u001b[39mNone\u001b[39;00m:\n\u001b[1;32m   <a href='file:///home/rohan/.local/lib/python3.8/site-packages/pandas/io/sql.py?line=2083'>2084</a>\u001b[0m     \u001b[39mreturn\u001b[39;00m \u001b[39mself\u001b[39m\u001b[39m.\u001b[39m_query_iterator(\n\u001b[1;32m   <a href='file:///home/rohan/.local/lib/python3.8/site-packages/pandas/io/sql.py?line=2084'>2085</a>\u001b[0m         cursor,\n\u001b[1;32m   <a href='file:///home/rohan/.local/lib/python3.8/site-packages/pandas/io/sql.py?line=2085'>2086</a>\u001b[0m         chunksize,\n\u001b[0;32m   (...)\u001b[0m\n\u001b[1;32m   <a href='file:///home/rohan/.local/lib/python3.8/site-packages/pandas/io/sql.py?line=2090'>2091</a>\u001b[0m         dtype\u001b[39m=\u001b[39mdtype,\n\u001b[1;32m   <a href='file:///home/rohan/.local/lib/python3.8/site-packages/pandas/io/sql.py?line=2091'>2092</a>\u001b[0m     )\n",
      "File \u001b[0;32m~/.local/lib/python3.8/site-packages/trino/dbapi.py:247\u001b[0m, in \u001b[0;36mCursor.description\u001b[0;34m(self)\u001b[0m\n\u001b[1;32m    <a href='file:///home/rohan/.local/lib/python3.8/site-packages/trino/dbapi.py?line=244'>245</a>\u001b[0m \u001b[39m@property\u001b[39m\n\u001b[1;32m    <a href='file:///home/rohan/.local/lib/python3.8/site-packages/trino/dbapi.py?line=245'>246</a>\u001b[0m \u001b[39mdef\u001b[39;00m \u001b[39mdescription\u001b[39m(\u001b[39mself\u001b[39m):\n\u001b[0;32m--> <a href='file:///home/rohan/.local/lib/python3.8/site-packages/trino/dbapi.py?line=246'>247</a>\u001b[0m     \u001b[39mif\u001b[39;00m \u001b[39mself\u001b[39;49m\u001b[39m.\u001b[39;49m_query\u001b[39m.\u001b[39;49mcolumns \u001b[39mis\u001b[39;00m \u001b[39mNone\u001b[39;00m:\n\u001b[1;32m    <a href='file:///home/rohan/.local/lib/python3.8/site-packages/trino/dbapi.py?line=247'>248</a>\u001b[0m         \u001b[39mreturn\u001b[39;00m \u001b[39mNone\u001b[39;00m\n\u001b[1;32m    <a href='file:///home/rohan/.local/lib/python3.8/site-packages/trino/dbapi.py?line=249'>250</a>\u001b[0m     \u001b[39m# [ (name, type_code, display_size, internal_size, precision, scale, null_ok) ]\u001b[39;00m\n",
      "File \u001b[0;32m~/.local/lib/python3.8/site-packages/trino/client.py:531\u001b[0m, in \u001b[0;36mTrinoQuery.columns\u001b[0;34m(self)\u001b[0m\n\u001b[1;32m    <a href='file:///home/rohan/.local/lib/python3.8/site-packages/trino/client.py?line=526'>527</a>\u001b[0m \u001b[39mif\u001b[39;00m \u001b[39mself\u001b[39m\u001b[39m.\u001b[39mquery_id:\n\u001b[1;32m    <a href='file:///home/rohan/.local/lib/python3.8/site-packages/trino/client.py?line=527'>528</a>\u001b[0m     \u001b[39mwhile\u001b[39;00m \u001b[39mnot\u001b[39;00m \u001b[39mself\u001b[39m\u001b[39m.\u001b[39m_columns \u001b[39mand\u001b[39;00m \u001b[39mnot\u001b[39;00m \u001b[39mself\u001b[39m\u001b[39m.\u001b[39mfinished \u001b[39mand\u001b[39;00m \u001b[39mnot\u001b[39;00m \u001b[39mself\u001b[39m\u001b[39m.\u001b[39mcancelled:\n\u001b[1;32m    <a href='file:///home/rohan/.local/lib/python3.8/site-packages/trino/client.py?line=528'>529</a>\u001b[0m         \u001b[39m# Columns don't return immediate after query is summited.\u001b[39;00m\n\u001b[1;32m    <a href='file:///home/rohan/.local/lib/python3.8/site-packages/trino/client.py?line=529'>530</a>\u001b[0m         \u001b[39m# Continue fetching data until columns are available and push fetched rows into buffer.\u001b[39;00m\n\u001b[0;32m--> <a href='file:///home/rohan/.local/lib/python3.8/site-packages/trino/client.py?line=530'>531</a>\u001b[0m         \u001b[39mself\u001b[39m\u001b[39m.\u001b[39m_result\u001b[39m.\u001b[39m_rows \u001b[39m+\u001b[39m\u001b[39m=\u001b[39m \u001b[39mself\u001b[39;49m\u001b[39m.\u001b[39;49mfetch()\n\u001b[1;32m    <a href='file:///home/rohan/.local/lib/python3.8/site-packages/trino/client.py?line=531'>532</a>\u001b[0m \u001b[39mreturn\u001b[39;00m \u001b[39mself\u001b[39m\u001b[39m.\u001b[39m_columns\n",
      "File \u001b[0;32m~/.local/lib/python3.8/site-packages/trino/client.py:581\u001b[0m, in \u001b[0;36mTrinoQuery.fetch\u001b[0;34m(self)\u001b[0m\n\u001b[1;32m    <a href='file:///home/rohan/.local/lib/python3.8/site-packages/trino/client.py?line=578'>579</a>\u001b[0m \u001b[39m\"\"\"Continue fetching data for the current query_id\"\"\"\u001b[39;00m\n\u001b[1;32m    <a href='file:///home/rohan/.local/lib/python3.8/site-packages/trino/client.py?line=579'>580</a>\u001b[0m response \u001b[39m=\u001b[39m \u001b[39mself\u001b[39m\u001b[39m.\u001b[39m_request\u001b[39m.\u001b[39mget(\u001b[39mself\u001b[39m\u001b[39m.\u001b[39m_request\u001b[39m.\u001b[39mnext_uri)\n\u001b[0;32m--> <a href='file:///home/rohan/.local/lib/python3.8/site-packages/trino/client.py?line=580'>581</a>\u001b[0m status \u001b[39m=\u001b[39m \u001b[39mself\u001b[39;49m\u001b[39m.\u001b[39;49m_request\u001b[39m.\u001b[39;49mprocess(response)\n\u001b[1;32m    <a href='file:///home/rohan/.local/lib/python3.8/site-packages/trino/client.py?line=581'>582</a>\u001b[0m \u001b[39mself\u001b[39m\u001b[39m.\u001b[39m_update_state(status)\n\u001b[1;32m    <a href='file:///home/rohan/.local/lib/python3.8/site-packages/trino/client.py?line=582'>583</a>\u001b[0m logger\u001b[39m.\u001b[39mdebug(status)\n",
      "File \u001b[0;32m~/.local/lib/python3.8/site-packages/trino/client.py:426\u001b[0m, in \u001b[0;36mTrinoRequest.process\u001b[0;34m(self, http_response)\u001b[0m\n\u001b[1;32m    <a href='file:///home/rohan/.local/lib/python3.8/site-packages/trino/client.py?line=423'>424</a>\u001b[0m logger\u001b[39m.\u001b[39mdebug(\u001b[39m\"\u001b[39m\u001b[39mHTTP \u001b[39m\u001b[39m%s\u001b[39;00m\u001b[39m: \u001b[39m\u001b[39m%s\u001b[39;00m\u001b[39m\"\u001b[39m, http_response\u001b[39m.\u001b[39mstatus_code, response)\n\u001b[1;32m    <a href='file:///home/rohan/.local/lib/python3.8/site-packages/trino/client.py?line=424'>425</a>\u001b[0m \u001b[39mif\u001b[39;00m \u001b[39m\"\u001b[39m\u001b[39merror\u001b[39m\u001b[39m\"\u001b[39m \u001b[39min\u001b[39;00m response:\n\u001b[0;32m--> <a href='file:///home/rohan/.local/lib/python3.8/site-packages/trino/client.py?line=425'>426</a>\u001b[0m     \u001b[39mraise\u001b[39;00m \u001b[39mself\u001b[39;49m\u001b[39m.\u001b[39;49m_process_error(response[\u001b[39m\"\u001b[39;49m\u001b[39merror\u001b[39;49m\u001b[39m\"\u001b[39;49m], response\u001b[39m.\u001b[39;49mget(\u001b[39m\"\u001b[39;49m\u001b[39mid\u001b[39;49m\u001b[39m\"\u001b[39;49m))\n\u001b[1;32m    <a href='file:///home/rohan/.local/lib/python3.8/site-packages/trino/client.py?line=427'>428</a>\u001b[0m \u001b[39mif\u001b[39;00m constants\u001b[39m.\u001b[39mHEADER_CLEAR_SESSION \u001b[39min\u001b[39;00m http_response\u001b[39m.\u001b[39mheaders:\n\u001b[1;32m    <a href='file:///home/rohan/.local/lib/python3.8/site-packages/trino/client.py?line=428'>429</a>\u001b[0m     \u001b[39mfor\u001b[39;00m prop \u001b[39min\u001b[39;00m get_header_values(\n\u001b[1;32m    <a href='file:///home/rohan/.local/lib/python3.8/site-packages/trino/client.py?line=429'>430</a>\u001b[0m         http_response\u001b[39m.\u001b[39mheaders, constants\u001b[39m.\u001b[39mHEADER_CLEAR_SESSION\n\u001b[1;32m    <a href='file:///home/rohan/.local/lib/python3.8/site-packages/trino/client.py?line=430'>431</a>\u001b[0m     ):\n",
      "File \u001b[0;32m~/.local/lib/python3.8/site-packages/trino/client.py:398\u001b[0m, in \u001b[0;36mTrinoRequest._process_error\u001b[0;34m(self, error, query_id)\u001b[0m\n\u001b[1;32m    <a href='file:///home/rohan/.local/lib/python3.8/site-packages/trino/client.py?line=395'>396</a>\u001b[0m error_type \u001b[39m=\u001b[39m error[\u001b[39m\"\u001b[39m\u001b[39merrorType\u001b[39m\u001b[39m\"\u001b[39m]\n\u001b[1;32m    <a href='file:///home/rohan/.local/lib/python3.8/site-packages/trino/client.py?line=396'>397</a>\u001b[0m \u001b[39mif\u001b[39;00m error_type \u001b[39m==\u001b[39m \u001b[39m\"\u001b[39m\u001b[39mEXTERNAL\u001b[39m\u001b[39m\"\u001b[39m:\n\u001b[0;32m--> <a href='file:///home/rohan/.local/lib/python3.8/site-packages/trino/client.py?line=397'>398</a>\u001b[0m     \u001b[39mraise\u001b[39;00m exceptions\u001b[39m.\u001b[39mTrinoExternalError(error, query_id)\n\u001b[1;32m    <a href='file:///home/rohan/.local/lib/python3.8/site-packages/trino/client.py?line=398'>399</a>\u001b[0m \u001b[39melif\u001b[39;00m error_type \u001b[39m==\u001b[39m \u001b[39m\"\u001b[39m\u001b[39mUSER_ERROR\u001b[39m\u001b[39m\"\u001b[39m:\n\u001b[1;32m    <a href='file:///home/rohan/.local/lib/python3.8/site-packages/trino/client.py?line=399'>400</a>\u001b[0m     \u001b[39mreturn\u001b[39;00m exceptions\u001b[39m.\u001b[39mTrinoUserError(error, query_id)\n",
      "\u001b[0;31mTrinoExternalError\u001b[0m: TrinoExternalError(type=EXTERNAL, name=HIVE_METASTORE_ERROR, message=\"Failed connecting to Hive metastore: [hive-metastore.hive-system:9083]\", query_id=20220319_190212_00000_5mywz)"
     ]
    }
   ],
   "source": [
    "# Query multiple data sources directly.\n",
    "df = pd.read_sql('''\n",
    "  select p.name, p.age, o.color, c.make, c.model, v.value as est_purchase_price\n",
    "  from minio.people.people p -- Gzipped JSON\n",
    "  inner join minio.autos.owners o on p.name = o.person_name -- ORC\n",
    "  inner join minio.autos.cars c on o.car_id = c.id -- Parquet\n",
    "  left join postgresql.autos.car_values v -- PostgreSQL server\n",
    "    on c.make = v.make and c.model = v.model and c.year = v.year\n",
    "''', conn)\n",
    "df"
   ]
  },
  {
   "cell_type": "markdown",
   "metadata": {},
   "source": [
    "#### Query a view\n",
    "\n",
    "We can accomplish the same thing using a view, which we predefined in Trino.\n",
    "This view is not materialized – but they can be – so it acts a virtual data set."
   ]
  },
  {
   "cell_type": "code",
   "execution_count": 9,
   "metadata": {},
   "outputs": [
    {
     "data": {
      "text/html": [
       "<div>\n",
       "<style scoped>\n",
       "    .dataframe tbody tr th:only-of-type {\n",
       "        vertical-align: middle;\n",
       "    }\n",
       "\n",
       "    .dataframe tbody tr th {\n",
       "        vertical-align: top;\n",
       "    }\n",
       "\n",
       "    .dataframe thead th {\n",
       "        text-align: right;\n",
       "    }\n",
       "</style>\n",
       "<table border=\"1\" class=\"dataframe\">\n",
       "  <thead>\n",
       "    <tr style=\"text-align: right;\">\n",
       "      <th></th>\n",
       "      <th>name</th>\n",
       "      <th>age</th>\n",
       "      <th>color</th>\n",
       "      <th>make</th>\n",
       "      <th>model</th>\n",
       "      <th>value</th>\n",
       "    </tr>\n",
       "  </thead>\n",
       "  <tbody>\n",
       "    <tr>\n",
       "      <th>0</th>\n",
       "      <td>Brendan</td>\n",
       "      <td>34</td>\n",
       "      <td>black</td>\n",
       "      <td>Mitsubishi</td>\n",
       "      <td>Outlander</td>\n",
       "      <td>23456.0</td>\n",
       "    </tr>\n",
       "    <tr>\n",
       "      <th>1</th>\n",
       "      <td>Blondie</td>\n",
       "      <td>55</td>\n",
       "      <td>red</td>\n",
       "      <td>Honda</td>\n",
       "      <td>Civic</td>\n",
       "      <td>14567.0</td>\n",
       "    </tr>\n",
       "    <tr>\n",
       "      <th>2</th>\n",
       "      <td>The Ginge</td>\n",
       "      <td>22</td>\n",
       "      <td>yellow</td>\n",
       "      <td>Ford</td>\n",
       "      <td>Taurus</td>\n",
       "      <td>NaN</td>\n",
       "    </tr>\n",
       "  </tbody>\n",
       "</table>\n",
       "</div>"
      ],
      "text/plain": [
       "        name  age   color        make      model    value\n",
       "0    Brendan   34   black  Mitsubishi  Outlander  23456.0\n",
       "1    Blondie   55     red       Honda      Civic  14567.0\n",
       "2  The Ginge   22  yellow        Ford     Taurus      NaN"
      ]
     },
     "execution_count": 9,
     "metadata": {},
     "output_type": "execute_result"
    }
   ],
   "source": [
    "# Query a view.\n",
    "df = pd.read_sql('''\n",
    "  select * from minio.autos.car_values\n",
    "  where make is not null\n",
    "''', conn)\n",
    "df"
   ]
  }
 ],
 "metadata": {
  "interpreter": {
   "hash": "eece82a716c4beb25e7c927b7d4de9738c3e6788ba42193d3efc4cbae3589103"
  },
  "kernelspec": {
   "display_name": "Python 3.8.10 ('.venv': venv)",
   "language": "python",
   "name": "python3"
  },
  "language_info": {
   "codemirror_mode": {
    "name": "ipython",
    "version": 3
   },
   "file_extension": ".py",
   "mimetype": "text/x-python",
   "name": "python",
   "nbconvert_exporter": "python",
   "pygments_lexer": "ipython3",
   "version": "3.8.10"
  },
  "orig_nbformat": 4
 },
 "nbformat": 4,
 "nbformat_minor": 2
}
